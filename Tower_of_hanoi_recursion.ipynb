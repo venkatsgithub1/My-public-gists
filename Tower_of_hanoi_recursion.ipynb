{
 "cells": [
  {
   "cell_type": "code",
   "execution_count": 1,
   "metadata": {},
   "outputs": [],
   "source": [
    "def move(f,t):\n",
    "    print('move disc from {} to {}'.format(f, t))"
   ]
  },
  {
   "cell_type": "code",
   "execution_count": 2,
   "metadata": {},
   "outputs": [
    {
     "name": "stdout",
     "output_type": "stream",
     "text": [
      "move disc from A to B\n"
     ]
    }
   ],
   "source": [
    "move('A','B')"
   ]
  },
  {
   "cell_type": "code",
   "execution_count": 3,
   "metadata": {},
   "outputs": [],
   "source": [
    "def hanoi(no_of_discs,from_disc,helper_disc,to_disc):\n",
    "    if no_of_discs==0:\n",
    "        return\n",
    "    hanoi(no_of_discs-1,from_disc,to_disc,helper_disc)\n",
    "    move(from_disc,to_disc)\n",
    "    hanoi(no_of_discs-1,helper_disc,from_disc,to_disc)"
   ]
  },
  {
   "cell_type": "code",
   "execution_count": 4,
   "metadata": {},
   "outputs": [
    {
     "name": "stdout",
     "output_type": "stream",
     "text": [
      "move disc from A to C\n",
      "move disc from A to B\n",
      "move disc from C to B\n",
      "move disc from A to C\n",
      "move disc from B to A\n",
      "move disc from B to C\n",
      "move disc from A to C\n"
     ]
    }
   ],
   "source": [
    "hanoi(3,'A','B','C')"
   ]
  },
  {
   "cell_type": "code",
   "execution_count": null,
   "metadata": {},
   "outputs": [],
   "source": []
  }
 ],
 "metadata": {
  "kernelspec": {
   "display_name": "Python 3",
   "language": "python",
   "name": "python3"
  },
  "language_info": {
   "codemirror_mode": {
    "name": "ipython",
    "version": 3
   },
   "file_extension": ".py",
   "mimetype": "text/x-python",
   "name": "python",
   "nbconvert_exporter": "python",
   "pygments_lexer": "ipython3",
   "version": "3.6.5"
  }
 },
 "nbformat": 4,
 "nbformat_minor": 2
}
